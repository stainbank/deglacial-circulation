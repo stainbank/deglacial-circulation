{
 "cells": [
  {
   "cell_type": "markdown",
   "metadata": {},
   "source": [
    "# Exercise 1"
   ]
  },
  {
   "cell_type": "code",
   "execution_count": 1,
   "metadata": {
    "collapsed": false
   },
   "outputs": [],
   "source": [
    "import pandas as pd\n",
    "import matplotlib.pyplot as plt\n",
    "% matplotlib inline"
   ]
  },
  {
   "cell_type": "markdown",
   "metadata": {},
   "source": [
    "## Question 1"
   ]
  },
  {
   "cell_type": "markdown",
   "metadata": {},
   "source": [
    "Calculate the past 20 ka bottom water oxygen isotope signal, $\\mathrm{\\delta^{18}O_{SW}}$, using:\n",
    "\n",
    "$$\n",
    "\\delta^{18}O_{SW} = \\delta^{18}O_{C} + 0.27 - \\frac{4.38 - \\sqrt{4.38^2 - 4 * 0.1(16.9 - T)}}{2 * 0.1} - \\delta^{18}O_{ice}\n",
    "$$\n",
    "\n",
    "Where $\\delta^{18}O_{C}$ is the raw signal in benthic foram carbonate, $\\delta^{18}O_{ice}$ is the ice volume correction, and $T$ is the temperature of calcification determined from an indepent Mg/Ca proxy via:\n",
    "\n",
    "$$\n",
    "T = \\frac{Mg/Ca - 0.96}{0.12}\n",
    "$$"
   ]
  },
  {
   "cell_type": "code",
   "execution_count": 2,
   "metadata": {
    "collapsed": false
   },
   "outputs": [],
   "source": [
    "df = pd.read_csv('data/RaPiD-10-1P_M_barleeanuum.csv', index_col=0)"
   ]
  },
  {
   "cell_type": "code",
   "execution_count": 3,
   "metadata": {
    "collapsed": false
   },
   "outputs": [],
   "source": [
    "# Find independent temperature of calcification\n",
    "df['Temp'] = (df.Mg_Ca - 0.96)/0.12\n",
    "\n",
    "# Find delta-18-O of seawater\n",
    "df['d18Osw'] = df.d18Oc + 0.27 - (4.38 - (4.38**2 - 4 * 0.1 * (16.9 - df.Temp))**0.5) / (2*0.1) - df.d18Oice"
   ]
  },
  {
   "cell_type": "markdown",
   "metadata": {},
   "source": [
    "Make a plot of $T$ and $\\delta^{18}O_{SW}$.\n",
    "\n",
    "Mg/Ca measurements are determined to be significantly contaminated by silicate material if $ \\frac{Fe/Ca}{Mg/Ca} > 0.1 $, and must be rejected."
   ]
  },
  {
   "cell_type": "code",
   "execution_count": 4,
   "metadata": {
    "collapsed": false
   },
   "outputs": [],
   "source": [
    "# Determine contaminated\n",
    "df['bad'] = (df.Fe_Ca/df.Mg_Ca) > 0.1"
   ]
  },
  {
   "cell_type": "markdown",
   "metadata": {},
   "source": [
    "### $\\mathrm{T}$ x $\\mathrm{\\delta^{18}O_{SW}}$"
   ]
  },
  {
   "cell_type": "code",
   "execution_count": 5,
   "metadata": {
    "collapsed": false
   },
   "outputs": [
    {
     "data": {
      "text/plain": [
       "(<matplotlib.text.Text at 0xaba40b8c>, <matplotlib.text.Text at 0xaba55c0c>)"
      ]
     },
     "execution_count": 5,
     "metadata": {},
     "output_type": "execute_result"
    },
    {
     "data": {
      "image/png": "[encoded data removed]",
      "text/plain": [
       "<matplotlib.figure.Figure at 0xad3c18cc>"
      ]
     },
     "metadata": {},
     "output_type": "display_data"
    }
   ],
   "source": [
    "fig, ax = plt.subplots()\n",
    "# Ensure bad points plotted on top of good\n",
    "for subset, facecolors, edgecolors in zip((~df.bad, df.bad),\n",
    "                                          ('lightblue', 'none'),\n",
    "                                          ('blue', 'red')):\n",
    "    ax.scatter(*df[['Temp', 'd18Osw']][subset].T.values,\n",
    "               edgecolors=edgecolors, facecolors=facecolors)\n",
    "ax.set_xlabel('Temperature (\\u00B0 C)')\n",
    "ax.set_ylabel('$\\delta^{18}O_{SW}$ (\\u2030)')"
   ]
  }
 ],
 "metadata": {
  "kernelspec": {
   "display_name": "Python 3",
   "language": "python",
   "name": "python3"
  },
  "language_info": {
   "codemirror_mode": {
    "name": "ipython",
    "version": 3
   },
   "file_extension": ".py",
   "mimetype": "text/x-python",
   "name": "python",
   "nbconvert_exporter": "python",
   "pygments_lexer": "ipython3",
   "version": "3.6.0"
  }
 },
 "nbformat": 4,
 "nbformat_minor": 2
}

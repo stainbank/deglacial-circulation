{
 "cells": [
  {
   "cell_type": "markdown",
   "metadata": {},
   "source": [
    "# Exercise 2"
   ]
  },
  {
   "cell_type": "code",
   "execution_count": 1,
   "metadata": {
    "collapsed": true
   },
   "outputs": [],
   "source": [
    "import matplotlib.pyplot as plt\n",
    "% matplotlib inline\n",
    "import os\n",
    "import pandas as pd"
   ]
  },
  {
   "cell_type": "code",
   "execution_count": 2,
   "metadata": {
    "collapsed": true
   },
   "outputs": [],
   "source": [
    "# Plot output defaults\n",
    "IMG_DIR = 'img'\n",
    "IMG_FORMAT = 'pdf'\n",
    "IMG_WIDTH = 7 # inches"
   ]
  },
  {
   "cell_type": "code",
   "execution_count": 3,
   "metadata": {
    "collapsed": false
   },
   "outputs": [],
   "source": [
    "def save_fig(fig, name, width=IMG_WIDTH, img_dir=IMG_DIR, img_format=IMG_FORMAT):\n",
    "    \"\"\"Save `matplotlib.figure.Figure` instance, resized to the specified width\"\"\"\n",
    "    # Resize\n",
    "    w, h = fig.get_size_inches()\n",
    "    fig.set_size_inches(width, width/w * h)\n",
    "    \n",
    "    fname = '.'.join((os.path.join(img_dir, name), img_format))\n",
    "    fig.savefig(fname)\n",
    "    print('Saved:',fname)"
   ]
  },
  {
   "cell_type": "markdown",
   "metadata": {},
   "source": [
    "## Question 1\n",
    "Plot calibrated ages versus depth."
   ]
  },
  {
   "cell_type": "code",
   "execution_count": 4,
   "metadata": {
    "collapsed": true
   },
   "outputs": [],
   "source": [
    "df = pd.read_csv('data/nps.csv', index_col=0) # all depths, nps"
   ]
  },
  {
   "cell_type": "code",
   "execution_count": 5,
   "metadata": {
    "collapsed": false
   },
   "outputs": [],
   "source": [
    "df = pd.read_csv('data/nps.csv', index_col=0) # all depths, nps\n",
    "df2 = pd.read_csv('data/age_tie_points.csv', index_col=0) # only tie points\n",
    "\n",
    "# Mark tie_points\n",
    "df2['tie_point'] = True\n",
    "df2 = df2[['tie_point']] # delete redundant age column\n",
    "df = pd.concat((df, df2), axis=1)\n",
    "df.ix[:, 'tie_point'].fillna(False, inplace=True)"
   ]
  },
  {
   "cell_type": "code",
   "execution_count": 6,
   "metadata": {
    "collapsed": false
   },
   "outputs": [
    {
     "name": "stdout",
     "output_type": "stream",
     "text": [
      "Saved: img/line_age_depth.pdf\n"
     ]
    },
    {
     "data": {
      "image/png": "[encoded data removed]",
      "text/plain": [
       "<matplotlib.figure.Figure at 0x7fce5a711668>"
      ]
     },
     "metadata": {},
     "output_type": "display_data"
    }
   ],
   "source": [
    "fig, ax = plt.subplots(figsize=(IMG_WIDTH,IMG_WIDTH/2))\n",
    "age = df['age']/1000.\n",
    "ax.plot(age, df.index, c='blue')\n",
    "ax.scatter(age[df.tie_point], df[df.tie_point].index,\n",
    "           c='lightblue', edgecolors='blue',\n",
    "           zorder=ax.lines[0].get_zorder()+1)\n",
    "ax.set_xlabel('Calibrated age (ka)')\n",
    "ax.set_ylabel('Core depth (cm)')\n",
    "plt.gca().invert_yaxis()\n",
    "\n",
    "save_fig(fig, 'line_age_depth')"
   ]
  }
 ],
 "metadata": {
  "kernelspec": {
   "display_name": "Python 3",
   "language": "python",
   "name": "python3"
  },
  "language_info": {
   "codemirror_mode": {
    "name": "ipython",
    "version": 3
   },
   "file_extension": ".py",
   "mimetype": "text/x-python",
   "name": "python",
   "nbconvert_exporter": "python",
   "pygments_lexer": "ipython3",
   "version": "3.6.0"
  }
 },
 "nbformat": 4,
 "nbformat_minor": 2
}
